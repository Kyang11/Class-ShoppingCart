{
 "cells": [
  {
   "cell_type": "markdown",
   "id": "3f42ebae",
   "metadata": {},
   "source": [
    "### Exercise 1 - Turn the shopping cart program from yesterday into an object-oriented program"
   ]
  },
  {
   "cell_type": "code",
   "execution_count": null,
   "id": "de4577c7",
   "metadata": {},
   "outputs": [],
   "source": [
    "# Create a class called cart that retains items and has methods to add, \n",
    "# remove, and show ( Apply this to OOP)\n",
    "class Shoppingcart():\n",
    "    def __init__(self, basket=[]):\n",
    "        self.basket = basket\n",
    "    def add_item(self):\n",
    "        name = input(\"What would you like to add?\")\n",
    "        quantity = int(input(\"How much do you want?\"))\n",
    "        for i in range(quantity):\n",
    "            self.basket.append(name)\n",
    "        print(f'You have successfully added {quantity} {name} items.')\n",
    "    def show_cart(self):\n",
    "        for item in self.basket:\n",
    "            print(item)\n",
    "            if not self.basket:\n",
    "                print(\"Your cart is empty\")\n",
    "    def del_item(self):\n",
    "        my_set = list(set(self.basket))\n",
    "        decision = input(f\"What would you like to remove from your cart? Here is what is currently in your cart. {my_set}.\")\n",
    "        if decision in my_set:\n",
    "            quant_dec = int(input(f'How many would like to remove? You currently have {self.basket.count(decision)} of these items in your cart.'))\n",
    "            for i in range(quant_dec):\n",
    "                self.basket.remove(decision)\n",
    "            print(list(set(self.basket)))\n",
    "        else:\n",
    "            print('Invalid choice')\n",
    "    def clear_item(self):\n",
    "        self.basket.clear()\n",
    "        print(\"Your Cart is empty\")\n",
    "    def shoping_cart(self):\n",
    "        while True:\n",
    "            print(\"\"\"\n",
    "            Choose this following selection option for your chart list \\n\n",
    "            1. add item to chart\n",
    "            2. show the list you have\n",
    "            3. remove item from chart\n",
    "            4. exit shopping\n",
    "            5. clear the list(start over)\n",
    "            \"\"\")\n",
    "            user_input= input(f\"Please make your selection option to continue: \")\n",
    "            if user_input== '1':\n",
    "                shop.add_item()\n",
    "            elif user_input== '2':\n",
    "                shop.shoping_cart()\n",
    "                print(\"Thank you for shopping with us\")\n",
    "            elif user_input== '3':\n",
    "                shop.del_item()\n",
    "            elif user_input== '4':\n",
    "                break\n",
    "            elif user_input== '5':\n",
    "                shop.clear_item()\n",
    "            else:\n",
    "                print(\"You select the wrong option\")\n",
    "\n",
    "shop=Shoppingcart()\n",
    "shop.shoping_cart()\n",
    "\n"
   ]
  },
  {
   "cell_type": "markdown",
   "id": "0ea9aae0",
   "metadata": {},
   "source": [
    "### Exercise 2 - Write a Python class which has two methods get_String and print_String. get_String accept a string from the user and print_String print the string in upper case"
   ]
  },
  {
   "cell_type": "code",
   "execution_count": 15,
   "id": "6c9d9073",
   "metadata": {},
   "outputs": [
    {
     "name": "stdout",
     "output_type": "stream",
     "text": [
      "Hello type your first name here:ku\n",
      "Hello type your Last name here:yang\n"
     ]
    },
    {
     "ename": "AttributeError",
     "evalue": "'Two_String' object has no attribute 'upper'",
     "output_type": "error",
     "traceback": [
      "\u001b[1;31m---------------------------------------------------------------------------\u001b[0m",
      "\u001b[1;31mAttributeError\u001b[0m                            Traceback (most recent call last)",
      "\u001b[1;32mC:\\Users\\KUYANG~1\\AppData\\Local\\Temp/ipykernel_5808/308543937.py\u001b[0m in \u001b[0;36m<module>\u001b[1;34m\u001b[0m\n\u001b[0;32m     14\u001b[0m \u001b[0mUser\u001b[0m \u001b[1;33m=\u001b[0m \u001b[0mTwo_String\u001b[0m\u001b[1;33m(\u001b[0m\u001b[1;34m'Ku'\u001b[0m\u001b[1;33m,\u001b[0m \u001b[1;36m27\u001b[0m\u001b[1;33m)\u001b[0m\u001b[1;33m\u001b[0m\u001b[1;33m\u001b[0m\u001b[0m\n\u001b[0;32m     15\u001b[0m \u001b[0mUser\u001b[0m\u001b[1;33m.\u001b[0m\u001b[0mget_String\u001b[0m\u001b[1;33m(\u001b[0m\u001b[1;33m)\u001b[0m\u001b[1;33m\u001b[0m\u001b[1;33m\u001b[0m\u001b[0m\n\u001b[1;32m---> 16\u001b[1;33m \u001b[0mUser\u001b[0m\u001b[1;33m.\u001b[0m\u001b[0mupper\u001b[0m\u001b[1;33m(\u001b[0m\u001b[0mprint_String\u001b[0m\u001b[1;33m(\u001b[0m\u001b[1;33m)\u001b[0m\u001b[1;33m)\u001b[0m\u001b[1;33m\u001b[0m\u001b[1;33m\u001b[0m\u001b[0m\n\u001b[0m\u001b[0;32m     17\u001b[0m \u001b[1;33m\u001b[0m\u001b[0m\n\u001b[0;32m     18\u001b[0m \u001b[1;33m\u001b[0m\u001b[0m\n",
      "\u001b[1;31mAttributeError\u001b[0m: 'Two_String' object has no attribute 'upper'"
     ]
    }
   ],
   "source": [
    "class Two_String():\n",
    "    def __init__(self, name, age):\n",
    "        self.names=name\n",
    "        self.ages=age\n",
    "\n",
    "    def get_String(self):\n",
    "        self.name=input(\"Hello type your first name here:\")\n",
    "        self.age=input(\"Hello type your Last name here:\")\n",
    "        \n",
    "    def print_String(self):\n",
    "        self.name=input(\"Type: \")\n",
    "        self.age = input(\" Age: \")\n",
    "        \n",
    "User = Two_String('Ku', 27)\n",
    "User.get_String()\n",
    "User.print_String()\n",
    "\n",
    "        "
   ]
  },
  {
   "cell_type": "code",
   "execution_count": null,
   "id": "fea06c73",
   "metadata": {},
   "outputs": [],
   "source": []
  }
 ],
 "metadata": {
  "kernelspec": {
   "display_name": "Python 3 (ipykernel)",
   "language": "python",
   "name": "python3"
  },
  "language_info": {
   "codemirror_mode": {
    "name": "ipython",
    "version": 3
   },
   "file_extension": ".py",
   "mimetype": "text/x-python",
   "name": "python",
   "nbconvert_exporter": "python",
   "pygments_lexer": "ipython3",
   "version": "3.9.7"
  }
 },
 "nbformat": 4,
 "nbformat_minor": 5
}
